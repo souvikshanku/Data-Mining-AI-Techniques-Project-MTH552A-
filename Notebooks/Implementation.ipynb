{
 "cells": [
  {
   "cell_type": "code",
   "execution_count": 1,
   "id": "df534f90",
   "metadata": {},
   "outputs": [],
   "source": [
    "import numpy as np\n",
    "import pandas as pd\n",
    "import matplotlib.pyplot as plt \n",
    "from sklearn.cluster import KMeans\n",
    "%matplotlib inline"
   ]
  },
  {
   "cell_type": "code",
   "execution_count": 2,
   "id": "c879717b",
   "metadata": {},
   "outputs": [],
   "source": [
    "df = pd.read_csv('Final_Data.csv')\n",
    "titles = pd.read_csv('Final_Titles.csv')"
   ]
  },
  {
   "cell_type": "code",
   "execution_count": 9,
   "id": "83162f47",
   "metadata": {},
   "outputs": [
    {
     "data": {
      "text/html": [
       "<div>\n",
       "<style scoped>\n",
       "    .dataframe tbody tr th:only-of-type {\n",
       "        vertical-align: middle;\n",
       "    }\n",
       "\n",
       "    .dataframe tbody tr th {\n",
       "        vertical-align: top;\n",
       "    }\n",
       "\n",
       "    .dataframe thead th {\n",
       "        text-align: right;\n",
       "    }\n",
       "</style>\n",
       "<table border=\"1\" class=\"dataframe\">\n",
       "  <thead>\n",
       "    <tr style=\"text-align: right;\">\n",
       "      <th></th>\n",
       "      <th>original_language</th>\n",
       "      <th>popularity</th>\n",
       "      <th>runtime</th>\n",
       "      <th>vote_average</th>\n",
       "      <th>vote_count</th>\n",
       "      <th>budget</th>\n",
       "      <th>release_date</th>\n",
       "      <th>genre_Documentary</th>\n",
       "      <th>genre_Mystery</th>\n",
       "      <th>genre_Music</th>\n",
       "      <th>...</th>\n",
       "      <th>Denzel Washington</th>\n",
       "      <th>Tom Hanks</th>\n",
       "      <th>Tom Cruise</th>\n",
       "      <th>Julia Roberts</th>\n",
       "      <th>Owen Wilson</th>\n",
       "      <th>Harrison Ford</th>\n",
       "      <th>Cameron Diaz</th>\n",
       "      <th>Julianne Moore</th>\n",
       "      <th>Robin Williams</th>\n",
       "      <th>cast_g10</th>\n",
       "    </tr>\n",
       "  </thead>\n",
       "  <tbody>\n",
       "    <tr>\n",
       "      <th>0</th>\n",
       "      <td>1</td>\n",
       "      <td>150.437577</td>\n",
       "      <td>162.0</td>\n",
       "      <td>7.2</td>\n",
       "      <td>11800</td>\n",
       "      <td>237000000</td>\n",
       "      <td>1</td>\n",
       "      <td>0</td>\n",
       "      <td>0</td>\n",
       "      <td>0</td>\n",
       "      <td>...</td>\n",
       "      <td>0</td>\n",
       "      <td>0</td>\n",
       "      <td>0</td>\n",
       "      <td>0</td>\n",
       "      <td>0</td>\n",
       "      <td>0</td>\n",
       "      <td>0</td>\n",
       "      <td>0</td>\n",
       "      <td>0</td>\n",
       "      <td>1</td>\n",
       "    </tr>\n",
       "    <tr>\n",
       "      <th>1</th>\n",
       "      <td>1</td>\n",
       "      <td>139.082615</td>\n",
       "      <td>169.0</td>\n",
       "      <td>6.9</td>\n",
       "      <td>4500</td>\n",
       "      <td>300000000</td>\n",
       "      <td>1</td>\n",
       "      <td>0</td>\n",
       "      <td>0</td>\n",
       "      <td>0</td>\n",
       "      <td>...</td>\n",
       "      <td>0</td>\n",
       "      <td>0</td>\n",
       "      <td>0</td>\n",
       "      <td>0</td>\n",
       "      <td>0</td>\n",
       "      <td>0</td>\n",
       "      <td>0</td>\n",
       "      <td>0</td>\n",
       "      <td>0</td>\n",
       "      <td>1</td>\n",
       "    </tr>\n",
       "    <tr>\n",
       "      <th>2</th>\n",
       "      <td>1</td>\n",
       "      <td>107.376788</td>\n",
       "      <td>148.0</td>\n",
       "      <td>6.3</td>\n",
       "      <td>4466</td>\n",
       "      <td>245000000</td>\n",
       "      <td>1</td>\n",
       "      <td>0</td>\n",
       "      <td>0</td>\n",
       "      <td>0</td>\n",
       "      <td>...</td>\n",
       "      <td>0</td>\n",
       "      <td>0</td>\n",
       "      <td>0</td>\n",
       "      <td>0</td>\n",
       "      <td>0</td>\n",
       "      <td>0</td>\n",
       "      <td>0</td>\n",
       "      <td>0</td>\n",
       "      <td>0</td>\n",
       "      <td>1</td>\n",
       "    </tr>\n",
       "    <tr>\n",
       "      <th>3</th>\n",
       "      <td>1</td>\n",
       "      <td>112.312950</td>\n",
       "      <td>165.0</td>\n",
       "      <td>7.6</td>\n",
       "      <td>9106</td>\n",
       "      <td>250000000</td>\n",
       "      <td>1</td>\n",
       "      <td>0</td>\n",
       "      <td>0</td>\n",
       "      <td>0</td>\n",
       "      <td>...</td>\n",
       "      <td>0</td>\n",
       "      <td>0</td>\n",
       "      <td>0</td>\n",
       "      <td>0</td>\n",
       "      <td>0</td>\n",
       "      <td>0</td>\n",
       "      <td>0</td>\n",
       "      <td>0</td>\n",
       "      <td>0</td>\n",
       "      <td>1</td>\n",
       "    </tr>\n",
       "    <tr>\n",
       "      <th>4</th>\n",
       "      <td>1</td>\n",
       "      <td>43.926995</td>\n",
       "      <td>132.0</td>\n",
       "      <td>6.1</td>\n",
       "      <td>2124</td>\n",
       "      <td>260000000</td>\n",
       "      <td>1</td>\n",
       "      <td>0</td>\n",
       "      <td>0</td>\n",
       "      <td>0</td>\n",
       "      <td>...</td>\n",
       "      <td>0</td>\n",
       "      <td>0</td>\n",
       "      <td>0</td>\n",
       "      <td>0</td>\n",
       "      <td>0</td>\n",
       "      <td>0</td>\n",
       "      <td>0</td>\n",
       "      <td>0</td>\n",
       "      <td>0</td>\n",
       "      <td>1</td>\n",
       "    </tr>\n",
       "  </tbody>\n",
       "</table>\n",
       "<p>5 rows × 81 columns</p>\n",
       "</div>"
      ],
      "text/plain": [
       "   original_language  popularity  runtime  vote_average  vote_count  \\\n",
       "0                  1  150.437577    162.0           7.2       11800   \n",
       "1                  1  139.082615    169.0           6.9        4500   \n",
       "2                  1  107.376788    148.0           6.3        4466   \n",
       "3                  1  112.312950    165.0           7.6        9106   \n",
       "4                  1   43.926995    132.0           6.1        2124   \n",
       "\n",
       "      budget  release_date  genre_Documentary  genre_Mystery  genre_Music  \\\n",
       "0  237000000             1                  0              0            0   \n",
       "1  300000000             1                  0              0            0   \n",
       "2  245000000             1                  0              0            0   \n",
       "3  250000000             1                  0              0            0   \n",
       "4  260000000             1                  0              0            0   \n",
       "\n",
       "   ...  Denzel Washington  Tom Hanks  Tom Cruise  Julia Roberts  Owen Wilson  \\\n",
       "0  ...                  0          0           0              0            0   \n",
       "1  ...                  0          0           0              0            0   \n",
       "2  ...                  0          0           0              0            0   \n",
       "3  ...                  0          0           0              0            0   \n",
       "4  ...                  0          0           0              0            0   \n",
       "\n",
       "   Harrison Ford  Cameron Diaz  Julianne Moore  Robin Williams  cast_g10  \n",
       "0              0             0               0               0         1  \n",
       "1              0             0               0               0         1  \n",
       "2              0             0               0               0         1  \n",
       "3              0             0               0               0         1  \n",
       "4              0             0               0               0         1  \n",
       "\n",
       "[5 rows x 81 columns]"
      ]
     },
     "execution_count": 9,
     "metadata": {},
     "output_type": "execute_result"
    }
   ],
   "source": [
    "df.head(5)"
   ]
  },
  {
   "cell_type": "code",
   "execution_count": 3,
   "id": "6e69e31b",
   "metadata": {},
   "outputs": [],
   "source": [
    "# MinMax Scaling for the dataset before applying PCA\n",
    "from sklearn.preprocessing import MinMaxScaler\n",
    "scaler = MinMaxScaler()\n",
    "scaler.fit(df)\n",
    "df_scaled = pd.DataFrame(scaler.transform(df))"
   ]
  },
  {
   "cell_type": "code",
   "execution_count": 14,
   "id": "a284242c",
   "metadata": {},
   "outputs": [],
   "source": [
    "## Applying PCA retaining 85% variablity\n",
    "from sklearn.decomposition import PCA\n",
    "pca = PCA(n_components=0.85,svd_solver='auto')\n",
    "principalComponents = pca.fit_transform(df_scaled)\n",
    "\n",
    "pcadf=pd.DataFrame(principalComponents)"
   ]
  },
  {
   "cell_type": "code",
   "execution_count": 22,
   "id": "f5c2d2b1",
   "metadata": {},
   "outputs": [
    {
     "data": {
      "text/plain": [
       "array([0.40919454, 0.3507452 , 0.27446438, 0.22572337, 0.21226001,\n",
       "       0.19536928, 0.16117071, 0.14290873, 0.13513769, 0.10976336,\n",
       "       0.09507593, 0.0878661 , 0.07987678, 0.07688653, 0.07192987,\n",
       "       0.06574347, 0.06225258, 0.05974505, 0.05917755, 0.05369   ,\n",
       "       0.05127141, 0.04743532, 0.04318801, 0.04160106, 0.03805502,\n",
       "       0.03564447])"
      ]
     },
     "execution_count": 22,
     "metadata": {},
     "output_type": "execute_result"
    }
   ],
   "source": [
    "pca.explained_variance_"
   ]
  },
  {
   "cell_type": "code",
   "execution_count": 15,
   "id": "04c54712",
   "metadata": {},
   "outputs": [
    {
     "data": {
      "text/html": [
       "<div>\n",
       "<style scoped>\n",
       "    .dataframe tbody tr th:only-of-type {\n",
       "        vertical-align: middle;\n",
       "    }\n",
       "\n",
       "    .dataframe tbody tr th {\n",
       "        vertical-align: top;\n",
       "    }\n",
       "\n",
       "    .dataframe thead th {\n",
       "        text-align: right;\n",
       "    }\n",
       "</style>\n",
       "<table border=\"1\" class=\"dataframe\">\n",
       "  <thead>\n",
       "    <tr style=\"text-align: right;\">\n",
       "      <th></th>\n",
       "      <th>0</th>\n",
       "      <th>1</th>\n",
       "      <th>2</th>\n",
       "      <th>3</th>\n",
       "      <th>4</th>\n",
       "      <th>5</th>\n",
       "      <th>6</th>\n",
       "      <th>7</th>\n",
       "      <th>8</th>\n",
       "      <th>9</th>\n",
       "      <th>...</th>\n",
       "      <th>16</th>\n",
       "      <th>17</th>\n",
       "      <th>18</th>\n",
       "      <th>19</th>\n",
       "      <th>20</th>\n",
       "      <th>21</th>\n",
       "      <th>22</th>\n",
       "      <th>23</th>\n",
       "      <th>24</th>\n",
       "      <th>25</th>\n",
       "    </tr>\n",
       "  </thead>\n",
       "  <tbody>\n",
       "    <tr>\n",
       "      <th>0</th>\n",
       "      <td>0.817195</td>\n",
       "      <td>0.784003</td>\n",
       "      <td>-0.420159</td>\n",
       "      <td>-0.542041</td>\n",
       "      <td>-0.574175</td>\n",
       "      <td>1.038814</td>\n",
       "      <td>-0.043546</td>\n",
       "      <td>0.159343</td>\n",
       "      <td>0.200533</td>\n",
       "      <td>-0.377582</td>\n",
       "      <td>...</td>\n",
       "      <td>-0.172181</td>\n",
       "      <td>-0.219593</td>\n",
       "      <td>-0.252369</td>\n",
       "      <td>-0.425393</td>\n",
       "      <td>0.495664</td>\n",
       "      <td>-0.153044</td>\n",
       "      <td>-0.318377</td>\n",
       "      <td>0.102019</td>\n",
       "      <td>-0.180489</td>\n",
       "      <td>0.198848</td>\n",
       "    </tr>\n",
       "    <tr>\n",
       "      <th>1</th>\n",
       "      <td>0.633697</td>\n",
       "      <td>0.734201</td>\n",
       "      <td>-0.661548</td>\n",
       "      <td>0.285503</td>\n",
       "      <td>-0.787365</td>\n",
       "      <td>0.020152</td>\n",
       "      <td>-0.588083</td>\n",
       "      <td>0.153542</td>\n",
       "      <td>-0.256419</td>\n",
       "      <td>0.081444</td>\n",
       "      <td>...</td>\n",
       "      <td>0.002583</td>\n",
       "      <td>-0.139631</td>\n",
       "      <td>0.057256</td>\n",
       "      <td>0.036006</td>\n",
       "      <td>-0.034082</td>\n",
       "      <td>-0.107636</td>\n",
       "      <td>0.156022</td>\n",
       "      <td>0.001586</td>\n",
       "      <td>0.017710</td>\n",
       "      <td>-0.253898</td>\n",
       "    </tr>\n",
       "    <tr>\n",
       "      <th>2</th>\n",
       "      <td>0.804787</td>\n",
       "      <td>0.523826</td>\n",
       "      <td>-0.798834</td>\n",
       "      <td>0.192832</td>\n",
       "      <td>-0.656535</td>\n",
       "      <td>-0.342824</td>\n",
       "      <td>-0.169087</td>\n",
       "      <td>0.262099</td>\n",
       "      <td>-0.582289</td>\n",
       "      <td>0.214226</td>\n",
       "      <td>...</td>\n",
       "      <td>0.002592</td>\n",
       "      <td>-0.124794</td>\n",
       "      <td>0.028491</td>\n",
       "      <td>-0.162511</td>\n",
       "      <td>-0.527959</td>\n",
       "      <td>0.650305</td>\n",
       "      <td>-0.218242</td>\n",
       "      <td>0.947668</td>\n",
       "      <td>-0.073435</td>\n",
       "      <td>0.040479</td>\n",
       "    </tr>\n",
       "    <tr>\n",
       "      <th>3</th>\n",
       "      <td>0.924680</td>\n",
       "      <td>-0.734366</td>\n",
       "      <td>-0.195029</td>\n",
       "      <td>-0.192366</td>\n",
       "      <td>-0.632402</td>\n",
       "      <td>-0.492067</td>\n",
       "      <td>0.590035</td>\n",
       "      <td>0.229366</td>\n",
       "      <td>-0.322954</td>\n",
       "      <td>0.039502</td>\n",
       "      <td>...</td>\n",
       "      <td>0.039097</td>\n",
       "      <td>0.357100</td>\n",
       "      <td>-0.072122</td>\n",
       "      <td>0.046413</td>\n",
       "      <td>0.020060</td>\n",
       "      <td>-0.092359</td>\n",
       "      <td>-0.150820</td>\n",
       "      <td>0.125239</td>\n",
       "      <td>-0.041706</td>\n",
       "      <td>0.130019</td>\n",
       "    </tr>\n",
       "    <tr>\n",
       "      <th>4</th>\n",
       "      <td>0.712028</td>\n",
       "      <td>0.804592</td>\n",
       "      <td>-0.058748</td>\n",
       "      <td>0.010759</td>\n",
       "      <td>-1.092794</td>\n",
       "      <td>0.463907</td>\n",
       "      <td>-0.117012</td>\n",
       "      <td>0.091244</td>\n",
       "      <td>0.277050</td>\n",
       "      <td>-0.217618</td>\n",
       "      <td>...</td>\n",
       "      <td>-0.096652</td>\n",
       "      <td>-0.000147</td>\n",
       "      <td>0.019734</td>\n",
       "      <td>0.126941</td>\n",
       "      <td>0.032559</td>\n",
       "      <td>0.307108</td>\n",
       "      <td>0.400019</td>\n",
       "      <td>0.754860</td>\n",
       "      <td>0.170372</td>\n",
       "      <td>-0.282527</td>\n",
       "    </tr>\n",
       "  </tbody>\n",
       "</table>\n",
       "<p>5 rows × 26 columns</p>\n",
       "</div>"
      ],
      "text/plain": [
       "         0         1         2         3         4         5         6   \\\n",
       "0  0.817195  0.784003 -0.420159 -0.542041 -0.574175  1.038814 -0.043546   \n",
       "1  0.633697  0.734201 -0.661548  0.285503 -0.787365  0.020152 -0.588083   \n",
       "2  0.804787  0.523826 -0.798834  0.192832 -0.656535 -0.342824 -0.169087   \n",
       "3  0.924680 -0.734366 -0.195029 -0.192366 -0.632402 -0.492067  0.590035   \n",
       "4  0.712028  0.804592 -0.058748  0.010759 -1.092794  0.463907 -0.117012   \n",
       "\n",
       "         7         8         9   ...        16        17        18        19  \\\n",
       "0  0.159343  0.200533 -0.377582  ... -0.172181 -0.219593 -0.252369 -0.425393   \n",
       "1  0.153542 -0.256419  0.081444  ...  0.002583 -0.139631  0.057256  0.036006   \n",
       "2  0.262099 -0.582289  0.214226  ...  0.002592 -0.124794  0.028491 -0.162511   \n",
       "3  0.229366 -0.322954  0.039502  ...  0.039097  0.357100 -0.072122  0.046413   \n",
       "4  0.091244  0.277050 -0.217618  ... -0.096652 -0.000147  0.019734  0.126941   \n",
       "\n",
       "         20        21        22        23        24        25  \n",
       "0  0.495664 -0.153044 -0.318377  0.102019 -0.180489  0.198848  \n",
       "1 -0.034082 -0.107636  0.156022  0.001586  0.017710 -0.253898  \n",
       "2 -0.527959  0.650305 -0.218242  0.947668 -0.073435  0.040479  \n",
       "3  0.020060 -0.092359 -0.150820  0.125239 -0.041706  0.130019  \n",
       "4  0.032559  0.307108  0.400019  0.754860  0.170372 -0.282527  \n",
       "\n",
       "[5 rows x 26 columns]"
      ]
     },
     "execution_count": 15,
     "metadata": {},
     "output_type": "execute_result"
    }
   ],
   "source": [
    "pcadf.head(5)"
   ]
  },
  {
   "cell_type": "code",
   "execution_count": 39,
   "id": "1f0d54b6",
   "metadata": {},
   "outputs": [
    {
     "data": {
      "image/png": "[encoded data removed]",
      "text/plain": [
       "<Figure size 576x576 with 1 Axes>"
      ]
     },
     "metadata": {
      "needs_background": "light"
     },
     "output_type": "display_data"
    }
   ],
   "source": [
    "from sklearn.cluster import KMeans\n",
    "\n",
    "## Comparison of Within-Cluster-Variation with and without PCA\n",
    "distortions = []\n",
    "distortions1 = []\n",
    "K = range(2,100,2)\n",
    "for k in K:\n",
    "    kmeanModel = KMeans(n_clusters=k)\n",
    "    kmeanModel.fit(pcadf)\n",
    "    distortions.append(kmeanModel.inertia_)\n",
    "    kmeanModel1 = KMeans(n_clusters=k)\n",
    "    kmeanModel1.fit(df_scaled)\n",
    "    distortions1.append(kmeanModel1.inertia_)\n",
    "\n",
    "plt.figure(figsize=(8,8))\n",
    "plt.plot(K, distortions,'r', label = 'with PCA')\n",
    "plt.plot(K, distortions1, 'b', label = 'without PCA')\n",
    "plt.xlabel('k')\n",
    "plt.ylabel('Distortion')\n",
    "plt.title('The Elbow Method showing the optimal k')\n",
    "plt.legend()\n",
    "plt.show()"
   ]
  },
  {
   "cell_type": "code",
   "execution_count": 40,
   "id": "22c7f9de",
   "metadata": {},
   "outputs": [
    {
     "data": {
      "image/png": "[encoded data removed]",
      "text/plain": [
       "<Figure size 576x576 with 1 Axes>"
      ]
     },
     "metadata": {
      "needs_background": "light"
     },
     "output_type": "display_data"
    }
   ],
   "source": [
    "## Choosing optimal K \n",
    "distortions = []\n",
    "K = range(1,100,5)\n",
    "for k in K:\n",
    "    kmeanModel = KMeans(n_clusters=k)\n",
    "    kmeanModel.fit(pcadf)\n",
    "    distortions.append(kmeanModel.inertia_)\n",
    "plt.figure(figsize=(8,8))\n",
    "plt.plot(K, distortions, 'bx-')\n",
    "plt.xlabel('k')\n",
    "plt.ylabel('Distortion')\n",
    "plt.title('The Elbow Method showing the optimal k')\n",
    "plt.scatter(26, distortions[5], marker = 'o', color = 'r')\n",
    "plt.show()"
   ]
  },
  {
   "cell_type": "code",
   "execution_count": 53,
   "id": "3d9f55e7",
   "metadata": {},
   "outputs": [],
   "source": [
    "## Fitting K-Means Clustering for optimal K = 20\n",
    "kmeanModel = KMeans(n_clusters=20)\n",
    "kmeanModel.fit(pcadf)\n",
    "\n",
    "labels = kmeanModel.labels_"
   ]
  },
  {
   "cell_type": "code",
   "execution_count": 74,
   "id": "7310faeb",
   "metadata": {},
   "outputs": [],
   "source": [
    "## Function to recommend a movie based on the input movie\n",
    "def get_recom(movie):\n",
    "    for i in range(len(titles)):\n",
    "        if titles['title'][i] == movie:\n",
    "            movie_id = i\n",
    "            label = labels[i]\n",
    "\n",
    "    ids = [] # id of movies with same label \n",
    "    for i in range(len(labels)):\n",
    "        if labels[i] == label and i!= movie_id :\n",
    "            ids.append(i)\n",
    "\n",
    "    distance_dict = {} # dictionary containing movie names and euclidean distance with given movie\n",
    "    for id_ in ids:\n",
    "        dist = np.linalg.norm(df_scaled.iloc[movie_id,:] - df_scaled.iloc[id_,:])\n",
    "        distance_dict[id_] = dist \n",
    "\n",
    "    sorted_id = sorted(distance_dict.items(), key=lambda x: x[1])\n",
    "    recom_id = [sorted_id[i][0] for i in range(5)]\n",
    "    recom_title = [titles.iloc[id_]['title'] for id_ in recom_id]\n",
    "    print(\"Your Recommendations for the movie \\'\" + movie + \"\\' is:\") \n",
    "    for i in recom_title:\n",
    "        print(i)"
   ]
  },
  {
   "cell_type": "code",
   "execution_count": 75,
   "id": "3c67746d",
   "metadata": {
    "scrolled": true
   },
   "outputs": [
    {
     "name": "stdout",
     "output_type": "stream",
     "text": [
      "Your Recommendations for the movie 'Batman Begins' is:\n",
      "The Dark Knight Rises\n",
      "The Dark Knight\n",
      "The Punisher\n",
      "Bronson\n",
      "The Sweeney\n"
     ]
    }
   ],
   "source": [
    "get_recom('Batman Begins')"
   ]
  },
  {
   "cell_type": "code",
   "execution_count": 76,
   "id": "8672b409",
   "metadata": {},
   "outputs": [
    {
     "name": "stdout",
     "output_type": "stream",
     "text": [
      "Your Recommendations for the movie 'The Conjuring' is:\n",
      "Insidious\n",
      "Insidious: Chapter 2\n",
      "Lost Souls\n",
      "28 Days Later\n",
      "Final Destination\n"
     ]
    }
   ],
   "source": [
    "get_recom('The Conjuring')"
   ]
  },
  {
   "cell_type": "code",
   "execution_count": 77,
   "id": "157a60ce",
   "metadata": {
    "scrolled": true
   },
   "outputs": [
    {
     "name": "stdout",
     "output_type": "stream",
     "text": [
      "Your Recommendations for the movie 'Tangled' is:\n",
      "Monsters University\n",
      "Dinosaur\n",
      "Home on the Range\n",
      "The Good Dinosaur\n",
      "WALL·E\n"
     ]
    }
   ],
   "source": [
    "get_recom('Tangled')"
   ]
  },
  {
   "cell_type": "code",
   "execution_count": 78,
   "id": "d0ca6c6d",
   "metadata": {
    "scrolled": true
   },
   "outputs": [
    {
     "name": "stdout",
     "output_type": "stream",
     "text": [
      "Your Recommendations for the movie 'The Pianist' is:\n",
      "The Boy in the Striped Pyjamas\n",
      "The Pursuit of Happyness\n",
      "The Last King of Scotland\n",
      "War Horse\n",
      "Wild\n"
     ]
    }
   ],
   "source": [
    "get_recom('The Pianist')"
   ]
  },
  {
   "cell_type": "code",
   "execution_count": 79,
   "id": "8a65ffdc",
   "metadata": {},
   "outputs": [
    {
     "name": "stdout",
     "output_type": "stream",
     "text": [
      "Your Recommendations for the movie 'Before Sunset' is:\n",
      "Before Midnight\n",
      "Revolutionary Road\n",
      "Water for Elephants\n",
      "The Best of Me\n",
      "The Vow\n"
     ]
    }
   ],
   "source": [
    "get_recom('Before Sunset')"
   ]
  },
  {
   "cell_type": "code",
   "execution_count": 23,
   "id": "a28cf671",
   "metadata": {},
   "outputs": [],
   "source": [
    "## Function to see what movies are there in a particular cluster\n",
    "def get_movies_by_label(label_id):\n",
    "    for index,label in enumerate(labels):\n",
    "        if label == label_id:\n",
    "            print(titles.loc[index, 'title'])\n",
    "\n",
    "# get_movies_by_label(12)"
   ]
  },
  {
   "cell_type": "code",
   "execution_count": null,
   "id": "ab4448bf",
   "metadata": {},
   "outputs": [],
   "source": []
  }
 ],
 "metadata": {
  "kernelspec": {
   "display_name": "Python 3",
   "language": "python",
   "name": "python3"
  },
  "language_info": {
   "codemirror_mode": {
    "name": "ipython",
    "version": 3
   },
   "file_extension": ".py",
   "mimetype": "text/x-python",
   "name": "python",
   "nbconvert_exporter": "python",
   "pygments_lexer": "ipython3",
   "version": "3.8.10"
  }
 },
 "nbformat": 4,
 "nbformat_minor": 5
}
